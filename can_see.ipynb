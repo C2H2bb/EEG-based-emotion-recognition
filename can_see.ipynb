{
 "cells": [
  {
   "cell_type": "code",
   "execution_count": null,
   "id": "052eb367",
   "metadata": {},
   "outputs": [],
   "source": [
    "import matplotlib.pyplot as plt\n",
    "import pandas as pd\n",
    "\n",
    "\n",
    "# 如果要做别的可视化，可以换掉下面这行里的数值\n",
    "avg_acc_list = [74.93205904960632, 88.61655831336975, 83.43950986862183, 84.62031841278076, 79.3816077709198, 86.43561244010925, 78.23302745819092, 79.2616331577301, 80.65282106399536, 75.99092245101929, 74.87122297286987, 79.07972455024719, 92.88461089134216, 87.04222321510315, 87.73800134658813]\n",
    "    \n",
    "x_list = [i for i in range(1, 16)]\n",
    "df = pd.DataFrame({'x': x_list,\n",
    "                   'y': avg_acc_list})\n",
    "\n",
    "plt.bar(df['x'], df['y'], align='center', width=0.5, color='orange', label='accuracy % ')\n",
    "plt.xlabel('X subjects')\n",
    "plt.ylabel('Y accuracy % ')\n",
    "plt.xticks(x_list)   # 显示坐标上的每一个刻度\n",
    "plt.ylim(70, 100)\n",
    "plt.title('avg_accuracy')\n",
    "plt.legend()\n",
    "plt.show()\n"
   ]
  }
 ],
 "metadata": {
  "kernelspec": {
   "display_name": "czq2",
   "language": "python",
   "name": "czq2"
  },
  "language_info": {
   "codemirror_mode": {
    "name": "ipython",
    "version": 3
   },
   "file_extension": ".py",
   "mimetype": "text/x-python",
   "name": "python",
   "nbconvert_exporter": "python",
   "pygments_lexer": "ipython3",
   "version": "3.10.6"
  }
 },
 "nbformat": 4,
 "nbformat_minor": 5
}
